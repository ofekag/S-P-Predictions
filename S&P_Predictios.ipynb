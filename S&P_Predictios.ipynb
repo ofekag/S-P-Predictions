{
  "nbformat": 4,
  "nbformat_minor": 0,
  "metadata": {
    "colab": {
      "name": "S&P_Predictios.ipynb",
      "provenance": []
    },
    "kernelspec": {
      "name": "python3",
      "display_name": "Python 3"
    },
    "language_info": {
      "name": "python"
    }
  },
  "cells": [
    {
      "cell_type": "code",
      "metadata": {
        "id": "q3Vi1huuD1h-"
      },
      "source": [
        "import yfinance as yf\n",
        "from datetime import datetime, timedelta\n",
        "import matplotlib.pyplot as plt\n",
        "from sklearn.model_selection import train_test_split\n",
        "from sklearn.linear_model import LinearRegression\n",
        "from sklearn.linear_model import LogisticRegression\n",
        "import pandas as pd\n",
        "from sklearn.tree import DecisionTreeClassifier\n",
        "from sklearn.metrics import accuracy_score\n",
        "from sklearn.naive_bayes import GaussianNB\n",
        "import numpy as np\n",
        "from sklearn.svm import SVC\n",
        "from sklearn.naive_bayes import GaussianNB"
      ],
      "execution_count": 14,
      "outputs": []
    },
    {
      "cell_type": "code",
      "metadata": {
        "id": "WDyZcUT5EHhM"
      },
      "source": [
        "# constants \n",
        "OPEN = 'Open'\n",
        "HIGH = 'High'\n",
        "LOW = 'Low'\n",
        "VOLUME = 'Volume'\n",
        "CLOSE = 'Close'\n",
        "SP_SYMBOL = '^GSPC'\n",
        "PRICE_LABLE = 'S&P Price'\n",
        "PREDICTED_LABLE = 'S&P Predictd Price'\n",
        "X_LABLE = 'Date'\n",
        "Y_LABLE = 'Price'\n",
        "HIGH_OPEN_DISTANCE = 'high_open_distance'\n",
        "LOW_OPEN_DISTANCE = 'low_open_distance'\n",
        "GAIN = 'gain'"
      ],
      "execution_count": 6,
      "outputs": []
    },
    {
      "cell_type": "code",
      "metadata": {
        "id": "KCuMBvSkSeDF"
      },
      "source": [
        "def graph(x, y, y_pred = None):\n",
        "    plt.figure(figsize=(10, 5))\n",
        "    plt.plot(x, y, color = 'blue', label = PRICE_LABLE)\n",
        "    if y_pred is not None:\n",
        "      plt.plot(x, y_pred, color = 'green', label = PREDICTED_LABLE)\n",
        "    plt.xlabel(X_LABLE)\n",
        "    plt.ylabel(Y_LABLE)\n",
        "    plt.legend(fontsize=18)\n",
        "    plt.show()"
      ],
      "execution_count": 7,
      "outputs": []
    },
    {
      "cell_type": "markdown",
      "metadata": {
        "id": "2T_QD-chEJ7h"
      },
      "source": [
        "**Data collecting from yfinance**"
      ]
    },
    {
      "cell_type": "code",
      "metadata": {
        "colab": {
          "base_uri": "https://localhost:8080/"
        },
        "id": "vgU1pn8zEOwt",
        "outputId": "bb963c79-8438-4c1b-f1d0-5bd66fb02441"
      },
      "source": [
        "end_date = datetime.strftime(datetime.today(), \"%Y-%m-%d\")\n",
        "start_date = datetime.strftime(datetime.now() - timedelta(days = (365 * 30)), \"%Y-%m-%d\")\n",
        "# get S&P 500 history open, high, low, volume, close, adj close over 30 years\n",
        "data = yf.download(SP_SYMBOL, start = start_date, end = end_date)\n",
        "dates = data.index\n",
        "print(data)"
      ],
      "execution_count": 8,
      "outputs": [
        {
          "output_type": "stream",
          "text": [
            "\r[*********************100%***********************]  1 of 1 completed\n",
            "                   Open         High  ...    Adj Close      Volume\n",
            "Date                                  ...                         \n",
            "1991-07-05   373.339996   375.510010  ...   374.079987    69910000\n",
            "1991-07-08   374.089996   377.940002  ...   377.940002   138330000\n",
            "1991-07-09   377.940002   378.579987  ...   376.109985   151820000\n",
            "1991-07-10   376.109985   380.350006  ...   375.739990   178290000\n",
            "1991-07-11   375.730011   377.679993  ...   376.970001   157930000\n",
            "...                 ...          ...  ...          ...         ...\n",
            "2021-06-21  4173.399902  4226.240234  ...  4224.790039  3391740000\n",
            "2021-06-22  4224.609863  4255.839844  ...  4246.439941  3208760000\n",
            "2021-06-23  4249.270020  4256.600098  ...  4241.839844  3172440000\n",
            "2021-06-24  4256.970215  4271.279785  ...  4266.490234  3141680000\n",
            "2021-06-25  4274.450195  4286.120117  ...  4280.700195  6248390000\n",
            "\n",
            "[7552 rows x 6 columns]\n"
          ],
          "name": "stdout"
        }
      ]
    },
    {
      "cell_type": "markdown",
      "metadata": {
        "id": "uk3W3MG9Sma5"
      },
      "source": [
        "**S&P Index Price Over 30 Years**"
      ]
    },
    {
      "cell_type": "code",
      "metadata": {
        "colab": {
          "base_uri": "https://localhost:8080/",
          "height": 334
        },
        "id": "5JMWaLwOSmrZ",
        "outputId": "17409aad-b635-4aa4-dc8d-12e652ccc196"
      },
      "source": [
        "graph(data.index, data[CLOSE])"
      ],
      "execution_count": 38,
      "outputs": [
        {
          "output_type": "display_data",
          "data": {
            "image/png": "[encoded data removed]",
            "text/plain": [
              "<Figure size 720x360 with 1 Axes>"
            ]
          },
          "metadata": {
            "tags": [],
            "needs_background": "light"
          }
        }
      ]
    },
    {
      "cell_type": "markdown",
      "metadata": {
        "id": "cWfteNK5EXBJ"
      },
      "source": [
        "**Adding Outcome**"
      ]
    },
    {
      "cell_type": "code",
      "metadata": {
        "colab": {
          "base_uri": "https://localhost:8080/"
        },
        "id": "fARZTZBxEXJr",
        "outputId": "c02ef7fa-7030-4704-ecbf-df859bdd1ae8"
      },
      "source": [
        "attributes = [HIGH_OPEN_DISTANCE, LOW_OPEN_DISTANCE, GAIN]\n",
        "X = {attr: [] for attr in attributes}\n",
        "y = []\n",
        "prev_closing_price = data.head(1)[CLOSE].values[0]\n",
        "next_days_data = data.iloc[1:]\n",
        "prev_days_data = data.iloc[:-1]\n",
        "# y: 1 if the bar was positive (close > previous closing price), 0 otherwise\n",
        "for date, price in next_days_data.iterrows():\n",
        "    if price[CLOSE] > prev_closing_price:\n",
        "        y.append(1)\n",
        "    else:\n",
        "        y.append(0)\n",
        "    prev_closing_price = price[CLOSE]\n",
        "# distance between Highest and Opening price\n",
        "X[HIGH_OPEN_DISTANCE] = prev_days_data[HIGH].array - prev_days_data[OPEN].array\n",
        "# distance between Lowest and Opening price\n",
        "X[LOW_OPEN_DISTANCE] = prev_days_data[LOW].array - prev_days_data[OPEN].array\n",
        "# distance between Closing and Opening price\n",
        "X[GAIN] = prev_days_data[CLOSE].array - prev_days_data[OPEN].array\n",
        "X = pd.DataFrame(X)\n",
        "print(X)"
      ],
      "execution_count": 9,
      "outputs": [
        {
          "output_type": "stream",
          "text": [
            "      high_open_distance  low_open_distance       gain\n",
            "0               2.170013          -1.169983   0.739990\n",
            "1               3.850006          -3.169983   3.850006\n",
            "2               0.639984          -2.570007  -1.830017\n",
            "3               4.240021          -0.909973  -0.369995\n",
            "4               1.949982          -0.220001   1.239990\n",
            "...                  ...                ...        ...\n",
            "7546            0.000000         -40.379883 -38.329590\n",
            "7547           52.840332           0.000000  51.390137\n",
            "7548           31.229980          -7.339844  21.830078\n",
            "7549            7.330078          -7.839844  -7.430176\n",
            "7550           14.309570           0.000000   9.520020\n",
            "\n",
            "[7551 rows x 3 columns]\n"
          ],
          "name": "stdout"
        }
      ]
    },
    {
      "cell_type": "markdown",
      "metadata": {
        "id": "GQ03nl_S6vFu"
      },
      "source": [
        "**Split Data To Train And Test**\n"
      ]
    },
    {
      "cell_type": "code",
      "metadata": {
        "id": "9kl65lFM6vdB"
      },
      "source": [
        "X_train, X_test, y_train, y_test = train_test_split(X, y, test_size= 1 / 3, random_state = 0, shuffle = False)"
      ],
      "execution_count": 10,
      "outputs": []
    },
    {
      "cell_type": "markdown",
      "metadata": {
        "id": "-BXcwzMOEyz-"
      },
      "source": [
        "**Training a Decision Tree Model**"
      ]
    },
    {
      "cell_type": "code",
      "metadata": {
        "id": "tIJnfdFtEy74"
      },
      "source": [
        "# predict\n",
        "decision_tree_classifier = DecisionTreeClassifier(criterion = 'entropy', random_state = 0)\n",
        "decision_tree_classifier.fit(X_train, y_train)\n",
        "y_pred = decision_tree_classifier.predict(X_test)"
      ],
      "execution_count": 41,
      "outputs": []
    },
    {
      "cell_type": "markdown",
      "metadata": {
        "id": "IBT4GmAN17qP"
      },
      "source": [
        "**Table Of S&P Actual Outcome vs Predicted**"
      ]
    },
    {
      "cell_type": "code",
      "metadata": {
        "colab": {
          "base_uri": "https://localhost:8080/"
        },
        "id": "D4xK42zQ17ye",
        "outputId": "afd14a88-c5bf-4a21-cb0a-68bd4ca698ba"
      },
      "source": [
        "dfr=pd.DataFrame({'Actual_Outcome':y_test, 'Predicted_Outcome':y_pred})\n",
        "print(dfr.head(10))"
      ],
      "execution_count": 42,
      "outputs": [
        {
          "output_type": "stream",
          "text": [
            "   Actual_Outcome  Predicted_Outcome\n",
            "0               1                  0\n",
            "1               1                  1\n",
            "2               1                  1\n",
            "3               1                  0\n",
            "4               1                  0\n",
            "5               0                  1\n",
            "6               1                  0\n",
            "7               1                  1\n",
            "8               0                  0\n",
            "9               0                  0\n"
          ],
          "name": "stdout"
        }
      ]
    },
    {
      "cell_type": "markdown",
      "metadata": {
        "id": "RtEeb6vEMZIz"
      },
      "source": [
        "**Prediction accuracy**"
      ]
    },
    {
      "cell_type": "code",
      "metadata": {
        "colab": {
          "base_uri": "https://localhost:8080/"
        },
        "id": "fZil9GDkMZRW",
        "outputId": "790fa385-87c8-4ba2-e044-c60c88423d9b"
      },
      "source": [
        "print('Accuracy of decision tree model is ' + str(accuracy_score(y_test, y_pred) * 100) + '%')"
      ],
      "execution_count": 43,
      "outputs": [
        {
          "output_type": "stream",
          "text": [
            "Accuracy of decision tree model is 50.933651172030196%\n"
          ],
          "name": "stdout"
        }
      ]
    },
    {
      "cell_type": "markdown",
      "metadata": {
        "id": "xwA-sCWy7VhB"
      },
      "source": [
        "**Training a Logistic Regression Model**"
      ]
    },
    {
      "cell_type": "code",
      "metadata": {
        "id": "Z5awFqBz7Vvx"
      },
      "source": [
        "logistic_regression_classifier = LogisticRegression(random_state = 0)\n",
        "logistic_regression_classifier.fit(X_train, y_train)\n",
        "y_pred = logistic_regression_classifier.predict(X_test)"
      ],
      "execution_count": 44,
      "outputs": []
    },
    {
      "cell_type": "markdown",
      "metadata": {
        "id": "tRdyFUGlDveR"
      },
      "source": [
        "**Prediction accuracy**"
      ]
    },
    {
      "cell_type": "code",
      "metadata": {
        "colab": {
          "base_uri": "https://localhost:8080/"
        },
        "id": "DeE3rwn4Dvlo",
        "outputId": "66071124-5b84-4ddd-8ae8-5139af0ff690"
      },
      "source": [
        "print('Accuracy of logistic regression model is ' + str(accuracy_score(y_test, y_pred) * 100) + '%')"
      ],
      "execution_count": 45,
      "outputs": [
        {
          "output_type": "stream",
          "text": [
            "Accuracy of logistic regression model is 53.118792212951924%\n"
          ],
          "name": "stdout"
        }
      ]
    },
    {
      "cell_type": "markdown",
      "metadata": {
        "id": "UKhjWlDvWjMJ"
      },
      "source": [
        "**Training a SVM Model**"
      ]
    },
    {
      "cell_type": "code",
      "metadata": {
        "id": "X8VFyDskWJG_"
      },
      "source": [
        "classifier = SVC(kernel = 'linear', random_state = 0)\n",
        "classifier.fit(X_train, y_train)\n",
        "\n",
        "y_pred = classifier.predict(X_test)"
      ],
      "execution_count": 11,
      "outputs": []
    },
    {
      "cell_type": "code",
      "metadata": {
        "colab": {
          "base_uri": "https://localhost:8080/"
        },
        "id": "1SzIlfnPXMI9",
        "outputId": "a1ccf747-2e24-48c0-e994-46f108235f2c"
      },
      "source": [
        "print('Accuracy of SVM model is ' + str(accuracy_score(y_test, y_pred) * 100) + '%')"
      ],
      "execution_count": 15,
      "outputs": [
        {
          "output_type": "stream",
          "text": [
            "Accuracy of SVM model is 54.66825586015097%\n"
          ],
          "name": "stdout"
        }
      ]
    },
    {
      "cell_type": "markdown",
      "metadata": {
        "id": "UkOx9n-YXMTa"
      },
      "source": [
        "**Training a Naive Bayes Model**"
      ]
    },
    {
      "cell_type": "code",
      "metadata": {
        "id": "iRfwkgYJXMbO"
      },
      "source": [
        "classifier = GaussianNB()\n",
        "classifier.fit(X_train, y_train)\n",
        "\n",
        "y_pred = classifier.predict(X_test)"
      ],
      "execution_count": 16,
      "outputs": []
    },
    {
      "cell_type": "code",
      "metadata": {
        "colab": {
          "base_uri": "https://localhost:8080/"
        },
        "id": "NNBiQf_9Xy8M",
        "outputId": "dbb8c183-7b1f-40a9-b64d-687b0a14830c"
      },
      "source": [
        "print('Accuracy of Naive Bayes model is ' + str(accuracy_score(y_test, y_pred) * 100) + '%')"
      ],
      "execution_count": 17,
      "outputs": [
        {
          "output_type": "stream",
          "text": [
            "Accuracy of Naive Bayes model is 53.039332538736595%\n"
          ],
          "name": "stdout"
        }
      ]
    },
    {
      "cell_type": "markdown",
      "metadata": {
        "id": "QIoEgA4wHVY6"
      },
      "source": [
        "**Trying to predict closing price value with Linear Regression**"
      ]
    },
    {
      "cell_type": "code",
      "metadata": {
        "colab": {
          "base_uri": "https://localhost:8080/"
        },
        "id": "ar6TmF4dHWN4",
        "outputId": "0f1f9d43-3b04-475e-d5b0-ac8272f574b5"
      },
      "source": [
        "# split to X and y\n",
        "X = data[[OPEN, HIGH, LOW, VOLUME]]\n",
        "X = X.iloc[:-1]\n",
        "print(X)"
      ],
      "execution_count": 21,
      "outputs": [
        {
          "output_type": "stream",
          "text": [
            "                   Open         High          Low      Volume\n",
            "Date                                                         \n",
            "1991-07-05   373.339996   375.510010   372.170013    69910000\n",
            "1991-07-08   374.089996   377.940002   370.920013   138330000\n",
            "1991-07-09   377.940002   378.579987   375.369995   151820000\n",
            "1991-07-10   376.109985   380.350006   375.200012   178290000\n",
            "1991-07-11   375.730011   377.679993   375.510010   157930000\n",
            "...                 ...          ...          ...         ...\n",
            "2021-06-18  4204.779785  4204.779785  4164.399902  6084980000\n",
            "2021-06-21  4173.399902  4226.240234  4173.399902  3391740000\n",
            "2021-06-22  4224.609863  4255.839844  4217.270020  3208760000\n",
            "2021-06-23  4249.270020  4256.600098  4241.430176  3172440000\n",
            "2021-06-24  4256.970215  4271.279785  4256.970215  3141680000\n",
            "\n",
            "[7551 rows x 4 columns]\n"
          ],
          "name": "stdout"
        }
      ]
    },
    {
      "cell_type": "code",
      "metadata": {
        "colab": {
          "base_uri": "https://localhost:8080/"
        },
        "id": "1Pe81HnkHha-",
        "outputId": "424134e7-b3cd-4fa3-95d8-a5ad770b0ebd"
      },
      "source": [
        "y = data[CLOSE]\n",
        "y = y[1:]\n",
        "print(y)"
      ],
      "execution_count": 22,
      "outputs": [
        {
          "output_type": "stream",
          "text": [
            "Date\n",
            "1991-07-08     377.940002\n",
            "1991-07-09     376.109985\n",
            "1991-07-10     375.739990\n",
            "1991-07-11     376.970001\n",
            "1991-07-12     380.250000\n",
            "                 ...     \n",
            "2021-06-21    4224.790039\n",
            "2021-06-22    4246.439941\n",
            "2021-06-23    4241.839844\n",
            "2021-06-24    4266.490234\n",
            "2021-06-25    4280.700195\n",
            "Name: Close, Length: 7551, dtype: float64\n"
          ],
          "name": "stdout"
        }
      ]
    },
    {
      "cell_type": "markdown",
      "metadata": {
        "id": "4J44FnEgHxrG"
      },
      "source": [
        "**Predict closing price of next day value with Linear Regression model**"
      ]
    },
    {
      "cell_type": "code",
      "metadata": {
        "id": "mnn1roaOHxye"
      },
      "source": [
        "X_train, X_test, y_train, y_test = train_test_split(X, y, test_size=1 / 3, random_state=0, shuffle = False)\n",
        "\n",
        "linear_regression = LinearRegression()\n",
        "linear_regression.fit(X_train, y_train)\n",
        "\n",
        "y_pred = linear_regression.predict(X_test)"
      ],
      "execution_count": 23,
      "outputs": []
    },
    {
      "cell_type": "markdown",
      "metadata": {
        "id": "Khi7QBhpSQno"
      },
      "source": [
        "**Table Of S&P Actual Index Prices vs Predicted Values**"
      ]
    },
    {
      "cell_type": "code",
      "metadata": {
        "colab": {
          "base_uri": "https://localhost:8080/"
        },
        "id": "pn720j1fSQ3c",
        "outputId": "fbebfedf-c54a-4065-f46c-aaafa822c7cb"
      },
      "source": [
        "dfr=pd.DataFrame({'Actual_Price':y_test, 'Predicted_Price':y_pred})\n",
        "print(dfr.head(10))"
      ],
      "execution_count": 24,
      "outputs": [
        {
          "output_type": "stream",
          "text": [
            "            Actual_Price  Predicted_Price\n",
            "Date                                     \n",
            "2011-06-27   1280.099976      1271.211021\n",
            "2011-06-28   1296.670044      1281.318991\n",
            "2011-06-29   1307.410034      1293.767032\n",
            "2011-06-30   1320.640015      1306.341241\n",
            "2011-07-01   1339.670044      1318.961426\n",
            "2011-07-05   1337.880005      1335.934715\n",
            "2011-07-06   1339.219971      1335.170724\n",
            "2011-07-07   1353.219971      1334.183270\n",
            "2011-07-08   1343.800049      1353.243815\n",
            "2011-07-11   1319.489990      1337.626094\n"
          ],
          "name": "stdout"
        }
      ]
    },
    {
      "cell_type": "markdown",
      "metadata": {
        "id": "mBJ21-XRSHp4"
      },
      "source": [
        "**S&P Actual Index Prices vs Predicted Values**"
      ]
    },
    {
      "cell_type": "code",
      "metadata": {
        "colab": {
          "base_uri": "https://localhost:8080/",
          "height": 334
        },
        "id": "eqpMTy7kSK1I",
        "outputId": "4b480746-df22-4474-f73b-b204b2125b41"
      },
      "source": [
        "graph(X_test.tail(150).index, y_test[-150:], y_pred=y_pred[-150:])"
      ],
      "execution_count": 25,
      "outputs": [
        {
          "output_type": "display_data",
          "data": {
            "image/png": "[encoded data removed]",
            "text/plain": [
              "<Figure size 720x360 with 1 Axes>"
            ]
          },
          "metadata": {
            "tags": [],
            "needs_background": "light"
          }
        }
      ]
    }
  ]
}